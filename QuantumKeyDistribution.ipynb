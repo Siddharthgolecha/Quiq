{
 "cells": [
  {
   "cell_type": "code",
   "execution_count": 9,
   "id": "d6629ffe-8401-4cd5-9ee4-5b02f27f52f2",
   "metadata": {},
   "outputs": [
    {
     "name": "stderr",
     "output_type": "stream",
     "text": [
      "ibmqfactory.load_account:WARNING:2022-01-30 07:29:13,916: Credentials are already in use. The existing account in the session will be replaced.\n"
     ]
    }
   ],
   "source": [
    "import numpy as np\n",
    "\n",
    "# Importing standard Qiskit libraries\n",
    "from qiskit import QuantumCircuit, transpile, Aer, IBMQ, assemble\n",
    "from qiskit.tools.jupyter import *\n",
    "from qiskit.visualization import *\n",
    "from ibm_quantum_widgets import *\n",
    "from qiskit.providers.aer import QasmSimulator\n",
    "\n",
    "# Loading your IBM Quantum account(s)\n",
    "provider = IBMQ.load_account()"
   ]
  },
  {
   "cell_type": "code",
   "execution_count": 20,
   "id": "25df5344-078d-4d3a-9d1c-dca00e7b0cf7",
   "metadata": {},
   "outputs": [],
   "source": [
    "n_bits = 20"
   ]
  },
  {
   "cell_type": "code",
   "execution_count": 21,
   "id": "508ffc38-c2d3-45cf-94a8-65c094e46336",
   "metadata": {},
   "outputs": [
    {
     "data": {
      "text/plain": [
       "array(['Z', 'Z', 'X', 'Z', 'Z', 'X', 'Z', 'X', 'X', 'Z', 'Z', 'Z', 'Z',\n",
       "       'X', 'X', 'X', 'Z', 'Z', 'Z', 'Z'], dtype='<U1')"
      ]
     },
     "execution_count": 21,
     "metadata": {},
     "output_type": "execute_result"
    }
   ],
   "source": [
    "user1bits = np.random.randint(2,size = n_bits)\n",
    "user1basis = np.random.choice([\"X\",\"Z\"],size = n_bits)\n",
    "user1basis"
   ]
  },
  {
   "cell_type": "code",
   "execution_count": 22,
   "id": "4cb8b9cb-7126-4fa2-aef7-8c196c5b09a5",
   "metadata": {},
   "outputs": [
    {
     "data": {
      "text/plain": [
       "array(['X', 'X', 'Z', 'X', 'X', 'Z', 'X', 'X', 'X', 'X', 'X', 'Z', 'Z',\n",
       "       'Z', 'X', 'X', 'X', 'X', 'Z', 'X'], dtype='<U1')"
      ]
     },
     "execution_count": 22,
     "metadata": {},
     "output_type": "execute_result"
    }
   ],
   "source": [
    "user2bits = np.random.randint(2,size = n_bits)\n",
    "user2basis = np.random.choice([\"X\",\"Z\"],size = n_bits)\n",
    "user2basis"
   ]
  },
  {
   "cell_type": "code",
   "execution_count": 23,
   "id": "1f3c69d8-ed48-4a42-ba7a-00a18b11e842",
   "metadata": {},
   "outputs": [],
   "source": [
    "def encode(bits,basis) :\n",
    "    message = []\n",
    "    assert len(bits) == len(basis)\n",
    "    \n",
    "    for i in range(len(bits)) :\n",
    "        qc = QuantumCircuit(1,1)\n",
    "        if basis[i] == \"Z\" :\n",
    "            if bits[i] == 0:\n",
    "                pass\n",
    "            else :\n",
    "                qc.x(0)\n",
    "        else :\n",
    "            if bits[i] == 0:\n",
    "                qc.h(0)\n",
    "            else :\n",
    "                qc.x(0)\n",
    "                qc.h(0)\n",
    "        message.append(qc)\n",
    "        \n",
    "    return message"
   ]
  },
  {
   "cell_type": "code",
   "execution_count": 24,
   "id": "e008059c-ce8e-4375-80ab-129c924140ef",
   "metadata": {},
   "outputs": [
    {
     "data": {
      "image/png": "[encoded data removed]",
      "text/plain": [
       "<Figure size 133.526x144.48 with 1 Axes>"
      ]
     },
     "execution_count": 24,
     "metadata": {},
     "output_type": "execute_result"
    }
   ],
   "source": [
    "message = encode(user1bits,user1basis)\n",
    "message[7].draw(\"mpl\")"
   ]
  },
  {
   "cell_type": "code",
   "execution_count": 25,
   "id": "d7863be3-9a52-49e5-bdb2-2f3e4faf1fa3",
   "metadata": {},
   "outputs": [],
   "source": [
    "def measure(message, basis):\n",
    "    backend = Aer.get_backend('aer_simulator')\n",
    "    measurements = []\n",
    "    for q in range(len(basis)):\n",
    "        if basis[q] == \"Z\": \n",
    "            message[q].measure(0,0)\n",
    "        else :\n",
    "            message[q].h(0)\n",
    "            message[q].measure(0,0)\n",
    "        aer_sim = Aer.get_backend('aer_simulator')\n",
    "        qobj = assemble(message[q], shots=1024, memory=True)\n",
    "        result = aer_sim.run(qobj).result()\n",
    "        measured_bit = int(result.get_memory()[0])\n",
    "        measurements.append(measured_bit)\n",
    "    return measurements"
   ]
  },
  {
   "cell_type": "code",
   "execution_count": 26,
   "id": "3a6fc993-fa38-401a-94dd-394264ff222e",
   "metadata": {},
   "outputs": [],
   "source": [
    "measurements = measure(message,user2basis)"
   ]
  },
  {
   "cell_type": "code",
   "execution_count": 27,
   "id": "717fc2e4-c157-48e8-889d-bb66edfafec1",
   "metadata": {},
   "outputs": [
    {
     "data": {
      "text/plain": [
       "[1, 0, 0, 1, 0, 0, 1, 0, 1, 0, 1, 0, 1, 0, 1, 1, 1, 1, 1, 0]"
      ]
     },
     "execution_count": 27,
     "metadata": {},
     "output_type": "execute_result"
    }
   ],
   "source": [
    "measurements"
   ]
  },
  {
   "cell_type": "code",
   "execution_count": 28,
   "id": "92ad5b89-0566-4f9b-8dd2-40206249bd39",
   "metadata": {},
   "outputs": [],
   "source": [
    "def common_bits(basis1,basis2,measured) :\n",
    "    common = []\n",
    "    for i in range(len(basis1)) :\n",
    "        if basis1[i] == basis2[i] :\n",
    "            common.append(measured[i])\n",
    "    return common"
   ]
  },
  {
   "cell_type": "code",
   "execution_count": 29,
   "id": "bd1e7fae-d70a-4f29-87c3-3c87637253cf",
   "metadata": {},
   "outputs": [
    {
     "data": {
      "text/plain": [
       "[0, 1, 0, 1, 1, 1, 1]"
      ]
     },
     "execution_count": 29,
     "metadata": {},
     "output_type": "execute_result"
    }
   ],
   "source": [
    "user1 = common_bits(user1basis,user2basis,user1bits)\n",
    "user1"
   ]
  },
  {
   "cell_type": "code",
   "execution_count": 30,
   "id": "1c63f6d5-d577-415e-9814-6a7183290e1d",
   "metadata": {},
   "outputs": [
    {
     "data": {
      "text/plain": [
       "[0, 1, 0, 1, 1, 1, 1]"
      ]
     },
     "execution_count": 30,
     "metadata": {},
     "output_type": "execute_result"
    }
   ],
   "source": [
    "user2 = common_bits(user1basis,user2basis,measurements)\n",
    "user2"
   ]
  }
 ],
 "metadata": {
  "kernelspec": {
   "display_name": "Qiskit v0.34.1 (ipykernel)",
   "language": "python",
   "name": "python3"
  },
  "language_info": {
   "codemirror_mode": {
    "name": "ipython",
    "version": 3
   },
   "file_extension": ".py",
   "mimetype": "text/x-python",
   "name": "python",
   "nbconvert_exporter": "python",
   "pygments_lexer": "ipython3",
   "version": "3.8.12"
  },
  "widgets": {
   "application/vnd.jupyter.widget-state+json": {
    "state": {
     "0a4d34bc04bb48f187ef112b0bc92afc": {
      "model_module": "@jupyter-widgets/base",
      "model_module_version": "1.2.0",
      "model_name": "LayoutModel",
      "state": {
       "width": "70px"
      }
     },
     "0a99a64582f94944886ad2ce9c64ae5f": {
      "model_module": "@jupyter-widgets/base",
      "model_module_version": "1.2.0",
      "model_name": "LayoutModel",
      "state": {
       "margin": "0px 0px 10px 0px"
      }
     },
     "1294351c3bfc4e0abc5e6969a2555847": {
      "model_module": "@jupyter-widgets/controls",
      "model_module_version": "1.5.0",
      "model_name": "HTMLModel",
      "state": {
       "layout": "IPY_MODEL_d99197f227bc4b8e8d9139d7ad6c8057",
       "style": "IPY_MODEL_bcc729a2e78043a584c6658833e2976d",
       "value": "<h5>Message</h5>"
      }
     },
     "194354943fb44bc4b72dac652190d7ae": {
      "model_module": "@jupyter-widgets/controls",
      "model_module_version": "1.5.0",
      "model_name": "HTMLModel",
      "state": {
       "layout": "IPY_MODEL_0a99a64582f94944886ad2ce9c64ae5f",
       "style": "IPY_MODEL_8217022d17684f478428a28162aaca3a",
       "value": "<p style='font-family: IBM Plex Sans, Arial, Helvetica, sans-serif; font-size: 20px; font-weight: medium;'>Circuit Properties</p>"
      }
     },
     "20a728ea7c3d4e9d9a22151ffbfdc0c3": {
      "model_module": "@jupyter-widgets/controls",
      "model_module_version": "1.5.0",
      "model_name": "DescriptionStyleModel",
      "state": {
       "description_width": ""
      }
     },
     "2e70ce047b2b4ca49a2250dca139eace": {
      "model_module": "@jupyter-widgets/base",
      "model_module_version": "1.2.0",
      "model_name": "LayoutModel",
      "state": {
       "width": "190px"
      }
     },
     "30870aa238274421bb934780414cb5dd": {
      "model_module": "@jupyter-widgets/controls",
      "model_module_version": "1.5.0",
      "model_name": "DescriptionStyleModel",
      "state": {
       "description_width": ""
      }
     },
     "38568b5e01da4bb889057643ab9b8ea1": {
      "model_module": "@jupyter-widgets/base",
      "model_module_version": "1.2.0",
      "model_name": "LayoutModel",
      "state": {
       "grid_template_areas": "\n                                       \". . . . right \"\n                                        ",
       "grid_template_columns": "20% 20% 20% 20% 20%",
       "width": "100%"
      }
     },
     "3db29926aebe4fd396dd36734f40abc6": {
      "model_module": "@jupyter-widgets/controls",
      "model_module_version": "1.5.0",
      "model_name": "DescriptionStyleModel",
      "state": {
       "description_width": ""
      }
     },
     "520fdcddc7dc4361917b2c0ed839a6ac": {
      "model_module": "@jupyter-widgets/controls",
      "model_module_version": "1.5.0",
      "model_name": "ButtonStyleModel",
      "state": {}
     },
     "557583f7d1e94bcbbe9cda8f7152d154": {
      "model_module": "@jupyter-widgets/base",
      "model_module_version": "1.2.0",
      "model_name": "LayoutModel",
      "state": {
       "width": "95px"
      }
     },
     "55ba414a831a42cfa9e29b015fdc7859": {
      "model_module": "@jupyter-widgets/base",
      "model_module_version": "1.2.0",
      "model_name": "LayoutModel",
      "state": {
       "grid_area": "right",
       "padding": "0px 0px 0px 0px",
       "width": "70px"
      }
     },
     "5bf5c4f9a93a475b9691062c2c5804bb": {
      "model_module": "@jupyter-widgets/base",
      "model_module_version": "1.2.0",
      "model_name": "LayoutModel",
      "state": {
       "margin": "0px 0px 0px 37px",
       "width": "600px"
      }
     },
     "5dc1daa92ae24780ba7dafbb73066502": {
      "model_module": "@jupyter-widgets/base",
      "model_module_version": "1.2.0",
      "model_name": "LayoutModel",
      "state": {
       "width": "145px"
      }
     },
     "639a4d324be64e05aaf238fb5916b346": {
      "model_module": "@jupyter-widgets/controls",
      "model_module_version": "1.5.0",
      "model_name": "HTMLModel",
      "state": {
       "layout": "IPY_MODEL_5dc1daa92ae24780ba7dafbb73066502",
       "style": "IPY_MODEL_3db29926aebe4fd396dd36734f40abc6",
       "value": "<h5>Backend</h5>"
      }
     },
     "6779cd14f5e541beadba5372600160fe": {
      "model_module": "@jupyter-widgets/controls",
      "model_module_version": "1.5.0",
      "model_name": "HTMLModel",
      "state": {
       "layout": "IPY_MODEL_557583f7d1e94bcbbe9cda8f7152d154",
       "style": "IPY_MODEL_20a728ea7c3d4e9d9a22151ffbfdc0c3",
       "value": "<h5>Status</h5>"
      }
     },
     "818edbb8249d40f9ba662179c3babe4e": {
      "model_module": "@jupyter-widgets/controls",
      "model_module_version": "1.5.0",
      "model_name": "HBoxModel",
      "state": {
       "children": [
        "IPY_MODEL_d115120c7c554cdc880813614e346e8f",
        "IPY_MODEL_639a4d324be64e05aaf238fb5916b346",
        "IPY_MODEL_6779cd14f5e541beadba5372600160fe",
        "IPY_MODEL_a41573c9132d4413b464ee2f117be601",
        "IPY_MODEL_1294351c3bfc4e0abc5e6969a2555847"
       ],
       "layout": "IPY_MODEL_5bf5c4f9a93a475b9691062c2c5804bb"
      }
     },
     "8217022d17684f478428a28162aaca3a": {
      "model_module": "@jupyter-widgets/controls",
      "model_module_version": "1.5.0",
      "model_name": "DescriptionStyleModel",
      "state": {
       "description_width": ""
      }
     },
     "97bbef491e3047f383bf764804b90339": {
      "model_module": "@jupyter-widgets/controls",
      "model_module_version": "1.5.0",
      "model_name": "ButtonModel",
      "state": {
       "button_style": "primary",
       "description": "Clear",
       "layout": "IPY_MODEL_55ba414a831a42cfa9e29b015fdc7859",
       "style": "IPY_MODEL_520fdcddc7dc4361917b2c0ed839a6ac"
      }
     },
     "a41573c9132d4413b464ee2f117be601": {
      "model_module": "@jupyter-widgets/controls",
      "model_module_version": "1.5.0",
      "model_name": "HTMLModel",
      "state": {
       "layout": "IPY_MODEL_0a4d34bc04bb48f187ef112b0bc92afc",
       "style": "IPY_MODEL_30870aa238274421bb934780414cb5dd",
       "value": "<h5>Queue</h5>"
      }
     },
     "bc501de5cb6c4f269a7359bc6ac363eb": {
      "model_module": "@jupyter-widgets/controls",
      "model_module_version": "1.5.0",
      "model_name": "GridBoxModel",
      "state": {
       "children": [
        "IPY_MODEL_97bbef491e3047f383bf764804b90339"
       ],
       "layout": "IPY_MODEL_38568b5e01da4bb889057643ab9b8ea1"
      }
     },
     "bcc729a2e78043a584c6658833e2976d": {
      "model_module": "@jupyter-widgets/controls",
      "model_module_version": "1.5.0",
      "model_name": "DescriptionStyleModel",
      "state": {
       "description_width": ""
      }
     },
     "d115120c7c554cdc880813614e346e8f": {
      "model_module": "@jupyter-widgets/controls",
      "model_module_version": "1.5.0",
      "model_name": "HTMLModel",
      "state": {
       "layout": "IPY_MODEL_2e70ce047b2b4ca49a2250dca139eace",
       "style": "IPY_MODEL_d5ba8ff02d3b4935be7d2265ce6a54e3",
       "value": "<h5>Job ID</h5>"
      }
     },
     "d5ba8ff02d3b4935be7d2265ce6a54e3": {
      "model_module": "@jupyter-widgets/controls",
      "model_module_version": "1.5.0",
      "model_name": "DescriptionStyleModel",
      "state": {
       "description_width": ""
      }
     },
     "d99197f227bc4b8e8d9139d7ad6c8057": {
      "model_module": "@jupyter-widgets/base",
      "model_module_version": "1.2.0",
      "model_name": "LayoutModel",
      "state": {}
     }
    },
    "version_major": 2,
    "version_minor": 0
   }
  }
 },
 "nbformat": 4,
 "nbformat_minor": 5
}

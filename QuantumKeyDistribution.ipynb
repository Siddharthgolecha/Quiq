{
 "cells": [
  {
   "cell_type": "code",
   "execution_count": 1,
   "id": "d6629ffe-8401-4cd5-9ee4-5b02f27f52f2",
   "metadata": {},
   "outputs": [],
   "source": [
    "import numpy as np\n",
    "\n",
    "# Importing standard Qiskit libraries\n",
    "from qiskit import QuantumCircuit, transpile, Aer, IBMQ, assemble\n",
    "from qiskit.tools.jupyter import *\n",
    "from qiskit.visualization import *\n",
    "from ibm_quantum_widgets import *\n",
    "from qiskit.providers.aer import QasmSimulator\n",
    "import getpass\n",
    "# Loading your IBM Quantum account(s)\n",
    "provider = IBMQ.load_account()"
   ]
  },
  {
   "cell_type": "code",
   "execution_count": 2,
   "id": "524755d0-50bf-484d-a181-46ba1eed4a6f",
   "metadata": {},
   "outputs": [
    {
     "name": "stdout",
     "output_type": "stream",
     "text": [
      "Requirement already satisfied: cryptocode in /opt/conda/lib/python3.8/site-packages (0.1)\n",
      "Requirement already satisfied: pycryptodomex in /opt/conda/lib/python3.8/site-packages (from cryptocode) (3.14.0)\n"
     ]
    }
   ],
   "source": [
    "!pip install cryptocode"
   ]
  },
  {
   "cell_type": "code",
   "execution_count": 3,
   "id": "cda306f6-ea7a-40a8-8820-0c90b8f35813",
   "metadata": {},
   "outputs": [],
   "source": [
    "import cryptocode"
   ]
  },
  {
   "cell_type": "markdown",
   "id": "9e1e5137-b87c-4394-b917-09d2744f6088",
   "metadata": {},
   "source": [
    "# QKD Protocol"
   ]
  },
  {
   "cell_type": "markdown",
   "id": "79c4e9af-15e0-46fa-93f5-2814d355935b",
   "metadata": {},
   "source": [
    "Alice chooses a set of random key string of length 16."
   ]
  },
  {
   "cell_type": "code",
   "execution_count": 5,
   "id": "25df5344-078d-4d3a-9d1c-dca00e7b0cf7",
   "metadata": {},
   "outputs": [
    {
     "name": "stdout",
     "output_type": "stream",
     "text": [
      "Alice's bit string sequence :  [1 0 1 0 1 1 0 1 0 1 1 0 1 1 0 0]\n"
     ]
    }
   ],
   "source": [
    "n_bits = 16\n",
    "\n",
    "Alice_bits = np.random.randint(2,size = n_bits)"
   ]
  },
  {
   "cell_type": "markdown",
   "id": "41d82391-8092-4c52-a983-1723c0cfa5ca",
   "metadata": {},
   "source": [
    "Now, Alice chooses a set of bases {Z,X} and encodes the above random string."
   ]
  },
  {
   "cell_type": "code",
   "execution_count": 6,
   "id": "9ace4a25-16a0-483a-9745-035aed48fad0",
   "metadata": {},
   "outputs": [
    {
     "name": "stdout",
     "output_type": "stream",
     "text": [
      "Alice's bases sequence :  ['X' 'Z' 'Z' 'Z' 'Z' 'Z' 'X' 'Z' 'X' 'Z' 'X' 'Z' 'Z' 'Z' 'X' 'Z']\n",
      "Alice's bitstring is successfully encoded now.\n"
     ]
    }
   ],
   "source": [
    "def encode(bits,basis) :\n",
    "    message = []\n",
    "    assert len(bits) == len(basis)\n",
    "    \n",
    "    for i in range(len(bits)) :\n",
    "        qc = QuantumCircuit(1,1)\n",
    "        if basis[i] == \"Z\" :\n",
    "            if bits[i] == 0:\n",
    "                pass\n",
    "            else :\n",
    "                qc.x(0)\n",
    "        else :\n",
    "            if bits[i] == 0:\n",
    "                qc.h(0)\n",
    "            else :\n",
    "                qc.x(0)\n",
    "                qc.h(0)\n",
    "        message.append(qc)\n",
    "        \n",
    "    return message\n",
    "\n",
    "Alice_basis = np.random.choice([\"X\",\"Z\"],size = n_bits)\n",
    "print(\"Alice's bases sequence : \",Alice_basis)\n",
    "\n",
    "encoded_bitstring = encode(Alice_bits,Alice_basis)\n",
    "print(\"Alice's bitstring is successfully encoded now.\")"
   ]
  },
  {
   "cell_type": "markdown",
   "id": "6860a1d2-0d41-4ba4-a1d2-5568a856a314",
   "metadata": {},
   "source": [
    "Now, Bob chooses a random set of bases {X,Z} and measures the Alice's bitsring."
   ]
  },
  {
   "cell_type": "code",
   "execution_count": 7,
   "id": "c61e6ee5-2f31-4849-9e7f-2c24ab3a0434",
   "metadata": {},
   "outputs": [
    {
     "name": "stdout",
     "output_type": "stream",
     "text": [
      "Bob's bases sequence :  ['Z' 'Z' 'X' 'Z' 'Z' 'Z' 'X' 'Z' 'Z' 'X' 'X' 'X' 'Z' 'X' 'X' 'Z']\n",
      "Encoded bitstring is successfully measured by Bob\n"
     ]
    }
   ],
   "source": [
    "Bob_basis = np.random.choice([\"X\",\"Z\"],size = n_bits)\n",
    "print(\"Bob's bases sequence : \",Bob_basis)\n",
    "\n",
    "def measure(message, basis):\n",
    "    backend = Aer.get_backend('aer_simulator')\n",
    "    measurements = []\n",
    "    for q in range(len(basis)):\n",
    "        if basis[q] == \"Z\": \n",
    "            message[q].measure(0,0)\n",
    "        else :\n",
    "            message[q].h(0)\n",
    "            message[q].measure(0,0)\n",
    "        aer_sim = Aer.get_backend('aer_simulator')\n",
    "        qobj = assemble(message[q], shots=1024, memory=True)\n",
    "        result = aer_sim.run(qobj).result()\n",
    "        measured_bit = int(result.get_memory()[0])\n",
    "        measurements.append(measured_bit)\n",
    "    return measurements\n",
    "\n",
    "measured_bitstring = measure(encoded_bitstring,Bob_basis)\n",
    "print(\"Encoded bitstring is successfully measured by Bob\")"
   ]
  },
  {
   "cell_type": "markdown",
   "id": "c3794fb7-3a3b-48a9-9d54-1d0e13758e6e",
   "metadata": {},
   "source": [
    "Now, Alice and Bob keep the bits corresponding to the bits having same bases."
   ]
  },
  {
   "cell_type": "code",
   "execution_count": 8,
   "id": "b55bfd88-35a2-4e96-aabb-298c91e14c4f",
   "metadata": {},
   "outputs": [
    {
     "name": "stdout",
     "output_type": "stream",
     "text": [
      "The private key has now been generated.\n"
     ]
    }
   ],
   "source": [
    "def common_bits(basis1,basis2,measured) :\n",
    "    common = []\n",
    "    for i in range(len(basis1)) :\n",
    "        if basis1[i] == basis2[i] :\n",
    "            common.append(measured[i])\n",
    "    return common\n",
    "\n",
    "key_bits = common_bits(Alice_basis,Bob_basis,measured_bitstring)\n",
    "\n",
    "def string_key(k_in) :\n",
    "    str_key = \"\"\n",
    "    for i in range(len(k_in)) :\n",
    "        str_key += str(k_in[i])\n",
    "    return str_key\n",
    "\n",
    "key_string = string_key(key_bits)\n",
    "\n",
    "print(\"The private key has now been generated.\")"
   ]
  },
  {
   "cell_type": "markdown",
   "id": "0e61f3a6-4697-44fb-b498-b169627374d1",
   "metadata": {},
   "source": [
    "# Encryption & Decryption"
   ]
  },
  {
   "cell_type": "markdown",
   "id": "dcccc170-21d2-45c6-be49-77ffafe18071",
   "metadata": {},
   "source": [
    "Input from the User: "
   ]
  },
  {
   "cell_type": "code",
   "execution_count": 9,
   "id": "e54c699d-2f7a-48d0-9052-6361522ea2f2",
   "metadata": {},
   "outputs": [
    {
     "name": "stdout",
     "output_type": "stream",
     "text": [
      "Please enter your message\n"
     ]
    },
    {
     "name": "stdin",
     "output_type": "stream",
     "text": [
      " ···········\n"
     ]
    }
   ],
   "source": [
    "def message_in():\n",
    "    print(\"Please enter your message\")\n",
    "    message =  getpass.getpass()\n",
    "    return message\n",
    "\n",
    "m_in = message_in()"
   ]
  },
  {
   "cell_type": "markdown",
   "id": "48049732-094a-4062-8193-6dc21a1e2809",
   "metadata": {},
   "source": [
    "Encrypting message with common key."
   ]
  },
  {
   "cell_type": "code",
   "execution_count": 10,
   "id": "6462a11b-6d30-40d8-bf6d-d20121a7c7c3",
   "metadata": {},
   "outputs": [
    {
     "name": "stdout",
     "output_type": "stream",
     "text": [
      "The message has been Encrypted successfully\n"
     ]
    }
   ],
   "source": [
    "key = key_string\n",
    "str_encoded = cryptocode.encrypt(m_in,key)\n",
    "print(\"The message has been Encrypted successfully\")"
   ]
  },
  {
   "cell_type": "markdown",
   "id": "15ff1a7b-2741-4883-a637-0bce1079118c",
   "metadata": {},
   "source": [
    "Decrypting message with common key."
   ]
  },
  {
   "cell_type": "code",
   "execution_count": 11,
   "id": "9930bf08-0f5e-4986-88d3-134b673456fe",
   "metadata": {},
   "outputs": [
    {
     "name": "stdout",
     "output_type": "stream",
     "text": [
      "The message has been Decrypted successfully\n"
     ]
    }
   ],
   "source": [
    "str_decoded = cryptocode.decrypt(str_encoded,key)\n",
    "print(\"The message has been Decrypted successfully\")"
   ]
  },
  {
   "cell_type": "code",
   "execution_count": 12,
   "id": "4b071e51-cfd5-4fda-81a8-8cd9cdfde074",
   "metadata": {},
   "outputs": [
    {
     "name": "stdout",
     "output_type": "stream",
     "text": [
      "Decoded message =  Hello World\n"
     ]
    }
   ],
   "source": [
    "print(\"Decoded message = \",str_decoded)"
   ]
  }
 ],
 "metadata": {
  "kernelspec": {
   "display_name": "Qiskit v0.34.1 (ipykernel)",
   "language": "python",
   "name": "python3"
  },
  "language_info": {
   "codemirror_mode": {
    "name": "ipython",
    "version": 3
   },
   "file_extension": ".py",
   "mimetype": "text/x-python",
   "name": "python",
   "nbconvert_exporter": "python",
   "pygments_lexer": "ipython3",
   "version": "3.8.12"
  },
  "widgets": {
   "application/vnd.jupyter.widget-state+json": {
    "state": {
     "05f3cb4c319d41388e2b137a92495820": {
      "model_module": "@jupyter-widgets/controls",
      "model_module_version": "1.5.0",
      "model_name": "DescriptionStyleModel",
      "state": {
       "description_width": ""
      }
     },
     "090e33c88c0b4cae9e45b5df3301d6e7": {
      "model_module": "@jupyter-widgets/base",
      "model_module_version": "1.2.0",
      "model_name": "LayoutModel",
      "state": {
       "margin": "0px 0px 0px 37px",
       "width": "600px"
      }
     },
     "0fa41c103bff4af7a719321a79c21d81": {
      "model_module": "@jupyter-widgets/controls",
      "model_module_version": "1.5.0",
      "model_name": "DescriptionStyleModel",
      "state": {
       "description_width": ""
      }
     },
     "142ab685b8f3472ab6b1d1b6b18f4bc6": {
      "model_module": "@jupyter-widgets/controls",
      "model_module_version": "1.5.0",
      "model_name": "DescriptionStyleModel",
      "state": {
       "description_width": ""
      }
     },
     "23e8a4f951074fe3b77ddcf135a91636": {
      "model_module": "@jupyter-widgets/base",
      "model_module_version": "1.2.0",
      "model_name": "LayoutModel",
      "state": {
       "width": "190px"
      }
     },
     "281eb9422530489bafc6c2ae566cb143": {
      "model_module": "@jupyter-widgets/controls",
      "model_module_version": "1.5.0",
      "model_name": "HTMLModel",
      "state": {
       "layout": "IPY_MODEL_23e8a4f951074fe3b77ddcf135a91636",
       "style": "IPY_MODEL_142ab685b8f3472ab6b1d1b6b18f4bc6",
       "value": "<h5>Job ID</h5>"
      }
     },
     "3cf4bfb470254d0d8aeafbe7d30dbad8": {
      "model_module": "@jupyter-widgets/controls",
      "model_module_version": "1.5.0",
      "model_name": "ButtonStyleModel",
      "state": {}
     },
     "47a6e81f388b49b4a1ef04dc5367bdeb": {
      "model_module": "@jupyter-widgets/base",
      "model_module_version": "1.2.0",
      "model_name": "LayoutModel",
      "state": {
       "grid_template_areas": "\n                                       \". . . . right \"\n                                        ",
       "grid_template_columns": "20% 20% 20% 20% 20%",
       "width": "100%"
      }
     },
     "4d4aab6c9e1846ba8bb478cb7aac93ab": {
      "model_module": "@jupyter-widgets/controls",
      "model_module_version": "1.5.0",
      "model_name": "DescriptionStyleModel",
      "state": {
       "description_width": ""
      }
     },
     "54548b8a10404ec5b2b42a677f8e3844": {
      "model_module": "@jupyter-widgets/base",
      "model_module_version": "1.2.0",
      "model_name": "LayoutModel",
      "state": {
       "margin": "0px 0px 10px 0px"
      }
     },
     "5607de70e4784a7e9a883ff20446005e": {
      "model_module": "@jupyter-widgets/controls",
      "model_module_version": "1.5.0",
      "model_name": "DescriptionStyleModel",
      "state": {
       "description_width": ""
      }
     },
     "56cfe7ea726f4366bebb2a9d142f8e7a": {
      "model_module": "@jupyter-widgets/controls",
      "model_module_version": "1.5.0",
      "model_name": "HTMLModel",
      "state": {
       "layout": "IPY_MODEL_6f67bfaa327b4587b52b7d74146452cb",
       "style": "IPY_MODEL_05f3cb4c319d41388e2b137a92495820",
       "value": "<h5>Message</h5>"
      }
     },
     "5e0113ae906141a39d66bb954d035812": {
      "model_module": "@jupyter-widgets/controls",
      "model_module_version": "1.5.0",
      "model_name": "HTMLModel",
      "state": {
       "layout": "IPY_MODEL_d11bf59c9da74559a0147a964583dd38",
       "style": "IPY_MODEL_5607de70e4784a7e9a883ff20446005e",
       "value": "<h5>Queue</h5>"
      }
     },
     "687e3ba7c78e4f8c929dc3d86a7d0aa5": {
      "model_module": "@jupyter-widgets/base",
      "model_module_version": "1.2.0",
      "model_name": "LayoutModel",
      "state": {
       "grid_area": "right",
       "padding": "0px 0px 0px 0px",
       "width": "70px"
      }
     },
     "6f67bfaa327b4587b52b7d74146452cb": {
      "model_module": "@jupyter-widgets/base",
      "model_module_version": "1.2.0",
      "model_name": "LayoutModel",
      "state": {}
     },
     "7051c9b92251438b9c0030c2e73c5492": {
      "model_module": "@jupyter-widgets/controls",
      "model_module_version": "1.5.0",
      "model_name": "HTMLModel",
      "state": {
       "layout": "IPY_MODEL_54548b8a10404ec5b2b42a677f8e3844",
       "style": "IPY_MODEL_0fa41c103bff4af7a719321a79c21d81",
       "value": "<p style='font-family: IBM Plex Sans, Arial, Helvetica, sans-serif; font-size: 20px; font-weight: medium;'>Circuit Properties</p>"
      }
     },
     "a3f628f997cc4e47885754fcf97e4880": {
      "model_module": "@jupyter-widgets/base",
      "model_module_version": "1.2.0",
      "model_name": "LayoutModel",
      "state": {
       "width": "145px"
      }
     },
     "c44e0edf617e4bc0bb67e72b11a50dd6": {
      "model_module": "@jupyter-widgets/controls",
      "model_module_version": "1.5.0",
      "model_name": "GridBoxModel",
      "state": {
       "children": [
        "IPY_MODEL_d64b4e8422674ecbb40cae97bafc3217"
       ],
       "layout": "IPY_MODEL_47a6e81f388b49b4a1ef04dc5367bdeb"
      }
     },
     "c75d891afea84e139d6edce60b33c02f": {
      "model_module": "@jupyter-widgets/controls",
      "model_module_version": "1.5.0",
      "model_name": "HTMLModel",
      "state": {
       "layout": "IPY_MODEL_a3f628f997cc4e47885754fcf97e4880",
       "style": "IPY_MODEL_4d4aab6c9e1846ba8bb478cb7aac93ab",
       "value": "<h5>Backend</h5>"
      }
     },
     "d11bf59c9da74559a0147a964583dd38": {
      "model_module": "@jupyter-widgets/base",
      "model_module_version": "1.2.0",
      "model_name": "LayoutModel",
      "state": {
       "width": "70px"
      }
     },
     "d1e22651632f4846b325c5a00ce35521": {
      "model_module": "@jupyter-widgets/controls",
      "model_module_version": "1.5.0",
      "model_name": "HBoxModel",
      "state": {
       "children": [
        "IPY_MODEL_281eb9422530489bafc6c2ae566cb143",
        "IPY_MODEL_c75d891afea84e139d6edce60b33c02f",
        "IPY_MODEL_e543c2c4a1ed429cbec0500db2930c90",
        "IPY_MODEL_5e0113ae906141a39d66bb954d035812",
        "IPY_MODEL_56cfe7ea726f4366bebb2a9d142f8e7a"
       ],
       "layout": "IPY_MODEL_090e33c88c0b4cae9e45b5df3301d6e7"
      }
     },
     "d47a1cc74a6443598ee38ee2de9bd452": {
      "model_module": "@jupyter-widgets/controls",
      "model_module_version": "1.5.0",
      "model_name": "DescriptionStyleModel",
      "state": {
       "description_width": ""
      }
     },
     "d64b4e8422674ecbb40cae97bafc3217": {
      "model_module": "@jupyter-widgets/controls",
      "model_module_version": "1.5.0",
      "model_name": "ButtonModel",
      "state": {
       "button_style": "primary",
       "description": "Clear",
       "layout": "IPY_MODEL_687e3ba7c78e4f8c929dc3d86a7d0aa5",
       "style": "IPY_MODEL_3cf4bfb470254d0d8aeafbe7d30dbad8"
      }
     },
     "e543c2c4a1ed429cbec0500db2930c90": {
      "model_module": "@jupyter-widgets/controls",
      "model_module_version": "1.5.0",
      "model_name": "HTMLModel",
      "state": {
       "layout": "IPY_MODEL_f3ad2345ad1e495691581fe1cda1ee00",
       "style": "IPY_MODEL_d47a1cc74a6443598ee38ee2de9bd452",
       "value": "<h5>Status</h5>"
      }
     },
     "f3ad2345ad1e495691581fe1cda1ee00": {
      "model_module": "@jupyter-widgets/base",
      "model_module_version": "1.2.0",
      "model_name": "LayoutModel",
      "state": {
       "width": "95px"
      }
     }
    },
    "version_major": 2,
    "version_minor": 0
   }
  }
 },
 "nbformat": 4,
 "nbformat_minor": 5
}
